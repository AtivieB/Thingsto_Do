{
 "cells": [
  {
   "cell_type": "markdown",
   "id": "7450b14d-6f66-4eca-a429-6b6199bde000",
   "metadata": {},
   "source": [
    "## 7.4\n",
    "Make a list called things with these three strings as elements:\r\n",
    " \"mozzarella\", \"cinderella\", \"salmonella\"."
   ]
  },
  {
   "cell_type": "code",
   "execution_count": 11,
   "id": "df57e59f-c798-4564-a60b-4213b7a10fd5",
   "metadata": {},
   "outputs": [
    {
     "name": "stdout",
     "output_type": "stream",
     "text": [
      "['mozzarella', 'cinderella', 'salmonella']\n"
     ]
    }
   ],
   "source": [
    "things = [\"mozzarella\", \"cinderella\", \"salmonella\"]\n",
    "print(things)"
   ]
  },
  {
   "cell_type": "markdown",
   "id": "3af783b4-2fad-4992-9808-67a5246dc169",
   "metadata": {},
   "source": [
    "## 7.5\n",
    " Capitalize the element in things that refers to a person and then print the\r\n",
    " list. Did it change the element in the list?"
   ]
  },
  {
   "cell_type": "code",
   "execution_count": 28,
   "id": "f2e0b4a5-d224-48eb-a110-1b32fb8ba6c6",
   "metadata": {},
   "outputs": [
    {
     "name": "stdout",
     "output_type": "stream",
     "text": [
      "['mozzarella', 'Cinderella', 'salmonella']\n",
      "Yes, the capitalization does change the element in the list\n"
     ]
    }
   ],
   "source": [
    "#The element in things that refers to a person is cinderella\n",
    "#Capitalizing cinderella\n",
    "things[1] = things[1].capitalize()\n",
    "print(things)\n",
    "\n",
    "\n",
    "print(\"Yes, the capitalization does change the element in the list\")"
   ]
  },
  {
   "cell_type": "markdown",
   "id": "9823a35e-7bb2-421e-b1d1-ff44846c6efe",
   "metadata": {},
   "source": [
    "## 7.6\n",
    "Make the cheesy element of things all uppercase and then print the list"
   ]
  },
  {
   "cell_type": "code",
   "execution_count": 34,
   "id": "b7509c68-93fc-465b-a084-eae8c6d2f71a",
   "metadata": {},
   "outputs": [
    {
     "name": "stdout",
     "output_type": "stream",
     "text": [
      "['MOZZARELLA', 'Cinderella', 'salmonella']\n"
     ]
    }
   ],
   "source": [
    "# The cheesy element in things is mozzarella\n",
    "# Uppercase 'mozzarella'\n",
    "things[0] = things[0].upper()\n",
    "print(things)"
   ]
  },
  {
   "cell_type": "markdown",
   "id": "b14feae2-08d2-4e9a-a0f4-a65b648d928c",
   "metadata": {},
   "source": [
    "## 7.7\n",
    " Delete the disease element from things, collect your Nobel Prize, and\r\n",
    " print the list"
   ]
  },
  {
   "cell_type": "code",
   "execution_count": 36,
   "id": "1a755d44-b0a7-4bff-91ad-e7f924115dba",
   "metadata": {},
   "outputs": [
    {
     "name": "stdout",
     "output_type": "stream",
     "text": [
      "['MOZZARELLA', 'Cinderella']\n"
     ]
    }
   ],
   "source": [
    "things.remove('salmonella')\n",
    "print(things)"
   ]
  },
  {
   "cell_type": "markdown",
   "id": "0d4d8083-7868-42ea-b5b4-6604bfaaae28",
   "metadata": {},
   "source": [
    "## 9.1\n",
    "Define a function called good() that returns the following list: ['Harry', 'Ron', 'Hermione']."
   ]
  },
  {
   "cell_type": "code",
   "execution_count": 39,
   "id": "0e223d79-c289-4a93-9fce-7d6a81eb5027",
   "metadata": {},
   "outputs": [
    {
     "data": {
      "text/plain": [
       "['Harry', 'Ron', 'Hermione']"
      ]
     },
     "execution_count": 39,
     "metadata": {},
     "output_type": "execute_result"
    }
   ],
   "source": [
    "def good():\n",
    "    return(['Harry', 'Ron', 'Hermione'])\n",
    "\n",
    "good()"
   ]
  },
  {
   "cell_type": "markdown",
   "id": "d5f652d4-c48d-43a2-8c9b-2e353c32826f",
   "metadata": {},
   "source": [
    "## 9.2\n",
    "Define a generator function called get_odds() that returns the odd\r\n",
    " numbers from range(10). Use a for loop to find and print the third value\r\n",
    " returned"
   ]
  },
  {
   "cell_type": "code",
   "execution_count": 44,
   "id": "7596c0a9-6e75-432b-a02b-e901c903a17b",
   "metadata": {},
   "outputs": [
    {
     "name": "stdout",
     "output_type": "stream",
     "text": [
      "The third odd number is 5\n"
     ]
    }
   ],
   "source": [
    "def get_odds():\n",
    "    for num in range(10):\n",
    "        if num % 2 != 0:  # Check if the number is odd\n",
    "            yield num\n",
    "\n",
    "# Use a for loop to get the third value returned by the generator\n",
    "count = 0\n",
    "for odd in get_odds():\n",
    "    count += 1\n",
    "    if count == 3:  # Stop when we reach the third odd number\n",
    "        print('The third odd number is',odd)\n",
    "        break"
   ]
  },
  {
   "cell_type": "code",
   "execution_count": null,
   "id": "4854b201-16b4-44b9-9599-3dcfcdff055b",
   "metadata": {},
   "outputs": [],
   "source": []
  }
 ],
 "metadata": {
  "kernelspec": {
   "display_name": "Python 3 (ipykernel)",
   "language": "python",
   "name": "python3"
  },
  "language_info": {
   "codemirror_mode": {
    "name": "ipython",
    "version": 3
   },
   "file_extension": ".py",
   "mimetype": "text/x-python",
   "name": "python",
   "nbconvert_exporter": "python",
   "pygments_lexer": "ipython3",
   "version": "3.11.7"
  }
 },
 "nbformat": 4,
 "nbformat_minor": 5
}
